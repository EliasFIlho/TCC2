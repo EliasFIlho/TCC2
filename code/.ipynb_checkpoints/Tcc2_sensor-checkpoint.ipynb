{
 "cells": [
  {
   "cell_type": "code",
   "execution_count": 157,
   "id": "fc11b7d7-9adc-4ea0-8656-cf4a9e3a167b",
   "metadata": {},
   "outputs": [
    {
     "name": "stderr",
     "output_type": "stream",
     "text": [
      "\u001b[32m\u001b[1m   Resolving\u001b[22m\u001b[39m package versions...\n",
      "\u001b[32m\u001b[1m  No Changes\u001b[22m\u001b[39m to `~/.julia/environments/v1.10/Project.toml`\n",
      "\u001b[32m\u001b[1m  No Changes\u001b[22m\u001b[39m to `~/.julia/environments/v1.10/Manifest.toml`\n"
     ]
    }
   ],
   "source": [
    "using Plots\n",
    "import Pkg; Pkg.add(\"DataFrames\")\n",
    "using DataFrames\n",
    "using Statistics"
   ]
  },
  {
   "cell_type": "code",
   "execution_count": 156,
   "id": "0dfea7d5-d21a-4360-94e7-204f5a58747a",
   "metadata": {},
   "outputs": [
    {
     "data": {
      "text/plain": [
       "calc_angle (generic function with 1 method)"
      ]
     },
     "execution_count": 156,
     "metadata": {},
     "output_type": "execute_result"
    }
   ],
   "source": [
    "function calc_angle(transduct_dis::Float64, diameter::Float64)\n",
    "    theta_rad::Float64 = atan(diameter / transduct_dis)\n",
    "    theta_degree::Float64 = rad2deg(theta_rad)\n",
    "    L_dis::Float64 = sqrt(transduct_dis^2 + diameter^2)\n",
    "    return theta_degree, L_dis\n",
    "end"
   ]
  },
  {
   "cell_type": "code",
   "execution_count": 155,
   "id": "e51a9f1f-54b9-4074-876a-2b3ca6c0ada8",
   "metadata": {},
   "outputs": [
    {
     "data": {
      "text/plain": [
       "calc_velocity (generic function with 1 method)"
      ]
     },
     "execution_count": 155,
     "metadata": {},
     "output_type": "execute_result"
    }
   ],
   "source": [
    "function calc_velocity(angle::Float64, L_dis::Float64, vel::Float64)\n",
    "    c::Float64 = 1480.00\n",
    "    td = L_dis / (c + vel * cosd(angle))\n",
    "    tu = L_dis / (c - vel * cosd(angle))\n",
    "    delta_time = tu - td\n",
    "    v::Float64 = (L_dis * delta_time) / (2 * cosd(angle) * tu * td)\n",
    "    return v\n",
    "end"
   ]
  },
  {
   "cell_type": "code",
   "execution_count": 100,
   "id": "eb3781ed-a355-4a15-873e-35f5f6b1dee7",
   "metadata": {},
   "outputs": [
    {
     "data": {
      "text/plain": [
       "add_noise (generic function with 1 method)"
      ]
     },
     "execution_count": 100,
     "metadata": {},
     "output_type": "execute_result"
    }
   ],
   "source": [
    "function add_noise(value::Float64, noise_level::Float64)\n",
    "    return value + (randn()*2-1) * noise_level\n",
    "end"
   ]
  },
  {
   "cell_type": "code",
   "execution_count": 154,
   "id": "c0f91bf8-a5f4-4d7d-8667-8b2d509dbe06",
   "metadata": {},
   "outputs": [
    {
     "data": {
      "text/plain": [
       "calc_vel_parabolic (generic function with 1 method)"
      ]
     },
     "execution_count": 154,
     "metadata": {},
     "output_type": "execute_result"
    }
   ],
   "source": [
    "# Função para calcular o perfil de velocidade parabólico\n",
    "function parabolic_velocity_profile(r::Float64, R::Float64, vmax::Float64)\n",
    "    return vmax * (1 - (r / R)^2)\n",
    "end\n",
    "\n",
    "# Função para calcular o tempo de trânsito usando o perfil parabólico\n",
    "function calc_vel_parabolic(angle::Float64, L_dis::Float64, R::Float64, vmax::Float64)\n",
    "    c = 1480.0\n",
    "    num_points = 100\n",
    "    rs = range(-R, stop=R, length=num_points)\n",
    "    vs = parabolic_velocity_profile.(rs, R, vmax)\n",
    "    avg_velocity = mean(vs)\n",
    "    td = L_dis / (c + avg_velocity * cosd(angle))\n",
    "    tu = L_dis / (c - avg_velocity * cosd(angle))\n",
    "    delta_time = tu - td\n",
    "    v::Float64 = (L_dis * delta_time) / (2 * cosd(angle) * tu * td)\n",
    "    return [v]\n",
    "end"
   ]
  },
  {
   "cell_type": "code",
   "execution_count": 153,
   "id": "65c97b62-b2e0-4d41-a285-7f44e17e5737",
   "metadata": {},
   "outputs": [
    {
     "data": {
      "text/plain": [
       "calc_MAE (generic function with 1 method)"
      ]
     },
     "execution_count": 153,
     "metadata": {},
     "output_type": "execute_result"
    }
   ],
   "source": [
    "function calc_MAE(v::Vector{Float64}, v_hat::Vector{Float64})\n",
    "    return mean(abs.(v .- v_hat))\n",
    "end"
   ]
  },
  {
   "cell_type": "code",
   "execution_count": 171,
   "id": "1925264c-bdd8-4cfc-8849-e39f7f93e969",
   "metadata": {},
   "outputs": [],
   "source": [
    "len = 10\n",
    "velocitys = collect(range(0.1, 10.0, length=len))  # Velocities in m/s\n",
    "distance_btw_transductores = collect(range(0.1, 50, length=len))  # cm\n",
    "diameters = collect(range(0.1, 50.0, length=len))  # cm\n",
    "\n",
    "\n",
    "true_velocities = Float64[]\n",
    "noisy_velocities = Float64[]\n",
    "errors = Float64[]\n",
    "parameter_combinations = []\n",
    "\n",
    "\n",
    "for velocity in velocitys\n",
    "    for distance in distance_btw_transductores\n",
    "        for diameter in diameters\n",
    "            angle, L_dis = calc_angle(distance, diameter)\n",
    "            true_velocity = calc_velocity(angle, L_dis, velocity)\n",
    "            push!(true_velocities, true_velocity)\n",
    "            noisy_velocity = add_noise(true_velocity, 0.01)\n",
    "            push!(noisy_velocities, noisy_velocity)\n",
    "            error = calc_MAE([true_velocity], [noisy_velocity])\n",
    "            push!(errors, error)\n",
    "            push!(parameter_combinations, (velocity, distance, diameter))\n",
    "        end\n",
    "    end\n",
    "end\n",
    "\n"
   ]
  }
 ],
 "metadata": {
  "kernelspec": {
   "display_name": "Julia 1.10.0",
   "language": "julia",
   "name": "julia-1.10"
  },
  "language_info": {
   "file_extension": ".jl",
   "mimetype": "application/julia",
   "name": "julia",
   "version": "1.10.0"
  }
 },
 "nbformat": 4,
 "nbformat_minor": 5
}

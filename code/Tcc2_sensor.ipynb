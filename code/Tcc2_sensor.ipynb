{
 "cells": [
  {
   "cell_type": "code",
   "execution_count": 42,
   "id": "fc11b7d7-9adc-4ea0-8656-cf4a9e3a167b",
   "metadata": {},
   "outputs": [
    {
     "name": "stderr",
     "output_type": "stream",
     "text": [
      "\u001b[32m\u001b[1m   Resolving\u001b[22m\u001b[39m package versions...\n",
      "\u001b[32m\u001b[1m  No Changes\u001b[22m\u001b[39m to `~/.julia/environments/v1.10/Project.toml`\n",
      "\u001b[32m\u001b[1m  No Changes\u001b[22m\u001b[39m to `~/.julia/environments/v1.10/Manifest.toml`\n"
     ]
    }
   ],
   "source": [
    "using Plots\n",
    "import Pkg; Pkg.add(\"DataFrames\")\n",
    "using DataFrames"
   ]
  },
  {
   "cell_type": "code",
   "execution_count": 43,
   "id": "0dfea7d5-d21a-4360-94e7-204f5a58747a",
   "metadata": {},
   "outputs": [
    {
     "data": {
      "text/plain": [
       "calc_angle (generic function with 1 method)"
      ]
     },
     "execution_count": 43,
     "metadata": {},
     "output_type": "execute_result"
    }
   ],
   "source": [
    "function calc_angle(transduct_dis::Float64, diameter::Float64)\n",
    "    theta_rad::Float64 = atan(diameter / transduct_dis)\n",
    "    theta_degree::Float64 = rad2deg(theta_rad)\n",
    "    L_dis::Float64 = sqrt(transduct_dis^2 + diameter^2)\n",
    "    return [theta_degree, L_dis]\n",
    "end"
   ]
  },
  {
   "cell_type": "code",
   "execution_count": 45,
   "id": "e51a9f1f-54b9-4074-876a-2b3ca6c0ada8",
   "metadata": {},
   "outputs": [
    {
     "data": {
      "text/plain": [
       "calc_velocity (generic function with 1 method)"
      ]
     },
     "execution_count": 45,
     "metadata": {},
     "output_type": "execute_result"
    }
   ],
   "source": [
    "function calc_velocity(angle::Float64, L_dis::Float64, vel::Float64)\n",
    "    c::Float64 = 1480.00\n",
    "    td = L_dis / (c + vel * cosd(angle))\n",
    "    tu = L_dis / (c - vel * cosd(angle))\n",
    "    delta_time = tu - td\n",
    "    v::Float64 = (L_dis * delta_time) / (2 * cosd(angle) * tu * td)\n",
    "    return v\n",
    "end"
   ]
  },
  {
   "cell_type": "code",
   "execution_count": 46,
   "id": "eb3781ed-a355-4a15-873e-35f5f6b1dee7",
   "metadata": {},
   "outputs": [
    {
     "data": {
      "text/plain": [
       "add_noise (generic function with 1 method)"
      ]
     },
     "execution_count": 46,
     "metadata": {},
     "output_type": "execute_result"
    }
   ],
   "source": [
    "function add_noise(value::Float64, noise_level::Float64)\n",
    "    return value + (randn()*2-1) * noise_level\n",
    "end"
   ]
  },
  {
   "cell_type": "code",
   "execution_count": 103,
   "id": "c0f91bf8-a5f4-4d7d-8667-8b2d509dbe06",
   "metadata": {},
   "outputs": [
    {
     "data": {
      "text/plain": [
       "calc_vel_parabolic (generic function with 1 method)"
      ]
     },
     "execution_count": 103,
     "metadata": {},
     "output_type": "execute_result"
    }
   ],
   "source": [
    "# Função para calcular o perfil de velocidade parabólico\n",
    "function parabolic_velocity_profile(r, R, vmax)\n",
    "    return vmax * (1 - (r / R)^2)\n",
    "end\n",
    "\n",
    "# Função para calcular o tempo de trânsito usando o perfil parabólico\n",
    "function calc_vel_parabolic(angle, L_dis, R, vmax)\n",
    "    c = 1480.0\n",
    "    num_points = 100\n",
    "    rs = range(-R, stop=R, length=num_points)\n",
    "    vs = parabolic_velocity_profile.(rs, R, vmax)\n",
    "    avg_velocity = mean(vs)\n",
    "    td = L_dis / (c + avg_velocity * cosd(angle))\n",
    "    tu = L_dis / (c - avg_velocity * cosd(angle))\n",
    "    delta_time = tu - td\n",
    "    v::Float64 = (L_dis * delta_time) / (2 * cosd(angle) * tu * td)\n",
    "    return [vmax,v]\n",
    "end"
   ]
  },
  {
   "cell_type": "code",
   "execution_count": 109,
   "id": "ece453e6-232f-4f2a-98d4-ceb1f9e3c29c",
   "metadata": {},
   "outputs": [
    {
     "name": "stdout",
     "output_type": "stream",
     "text": [
      "[5.0, 3.299663299663318]"
     ]
    }
   ],
   "source": [
    "print(calc_vel_parabolic(45,10,0.5,5))"
   ]
  },
  {
   "cell_type": "code",
   "execution_count": 113,
   "id": "63d5828f-4644-4eec-8e88-bd8458c8d312",
   "metadata": {},
   "outputs": [
    {
     "data": {
      "text/plain": [
       "0.01"
      ]
     },
     "execution_count": 113,
     "metadata": {},
     "output_type": "execute_result"
    }
   ],
   "source": [
    "velocitys = range(0.1, 10.0, length=20)\n",
    "distance_btw_transductores = range(0.1, 50, length=20)  # cm\n",
    "diameters = range(0.1, 10.0, length=20)  # cm\n",
    "noise_level_time = 1e-6  # Nível de ruído para o tempo (segundos)\n",
    "noise_level_velocity = 0.01  # Nível de ruído para a velocidade (m/s)"
   ]
  },
  {
   "cell_type": "code",
   "execution_count": null,
   "id": "65c97b62-b2e0-4d41-a285-7f44e17e5737",
   "metadata": {},
   "outputs": [],
   "source": []
  }
 ],
 "metadata": {
  "kernelspec": {
   "display_name": "Julia 1.10.0",
   "language": "julia",
   "name": "julia-1.10"
  },
  "language_info": {
   "file_extension": ".jl",
   "mimetype": "application/julia",
   "name": "julia",
   "version": "1.10.0"
  }
 },
 "nbformat": 4,
 "nbformat_minor": 5
}
